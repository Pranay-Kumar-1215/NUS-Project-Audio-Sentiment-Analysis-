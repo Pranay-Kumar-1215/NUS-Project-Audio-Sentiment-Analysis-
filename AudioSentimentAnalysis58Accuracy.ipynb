{
 "cells": [
  {
   "cell_type": "code",
   "execution_count": 60,
   "id": "89f30fcd",
   "metadata": {},
   "outputs": [
    {
     "name": "stdout",
     "output_type": "stream",
     "text": [
      "Requirement already satisfied: pyAudioAnalysis in c:\\programdata\\anaconda3\\lib\\site-packages (0.3.14)\n"
     ]
    }
   ],
   "source": [
    "!pip install pyAudioAnalysis"
   ]
  },
  {
   "cell_type": "code",
   "execution_count": 61,
   "id": "86f1125a",
   "metadata": {
    "scrolled": true
   },
   "outputs": [
    {
     "name": "stdout",
     "output_type": "stream",
     "text": [
      "Requirement already satisfied: eyed3 in c:\\programdata\\anaconda3\\lib\\site-packages (0.9.6)\n",
      "Requirement already satisfied: coverage[toml]<6.0.0,>=5.3.1 in c:\\programdata\\anaconda3\\lib\\site-packages (from eyed3) (5.5)\n",
      "Requirement already satisfied: filetype<2.0.0,>=1.0.7 in c:\\programdata\\anaconda3\\lib\\site-packages (from eyed3) (1.1.0)\n",
      "Requirement already satisfied: deprecation<3.0.0,>=2.1.0 in c:\\programdata\\anaconda3\\lib\\site-packages (from eyed3) (2.1.0)\n",
      "Requirement already satisfied: toml in c:\\programdata\\anaconda3\\lib\\site-packages (from coverage[toml]<6.0.0,>=5.3.1->eyed3) (0.10.2)\n",
      "Requirement already satisfied: packaging in c:\\programdata\\anaconda3\\lib\\site-packages (from deprecation<3.0.0,>=2.1.0->eyed3) (21.3)\n",
      "Requirement already satisfied: pyparsing!=3.0.5,>=2.0.2 in c:\\programdata\\anaconda3\\lib\\site-packages (from packaging->deprecation<3.0.0,>=2.1.0->eyed3) (3.0.4)\n",
      "Requirement already satisfied: pydub in c:\\programdata\\anaconda3\\lib\\site-packages (0.25.1)\n"
     ]
    }
   ],
   "source": [
    "!pip install eyed3\n",
    "!pip install pydub"
   ]
  },
  {
   "cell_type": "code",
   "execution_count": 62,
   "id": "f34a8ae3",
   "metadata": {},
   "outputs": [
    {
     "name": "stdout",
     "output_type": "stream",
     "text": [
      "Requirement already satisfied: ffmpeg in c:\\programdata\\anaconda3\\lib\\site-packages (1.4)\n"
     ]
    }
   ],
   "source": [
    "!pip install ffmpeg"
   ]
  },
  {
   "cell_type": "code",
   "execution_count": 63,
   "id": "bd68a0d8",
   "metadata": {},
   "outputs": [],
   "source": [
    "from glob import glob\n",
    "import IPython.display as ipd\n",
    "import matplotlib.pyplot as plt\n",
    "from pyAudioAnalysis import audioBasicIO as aIo\n",
    "from pyAudioAnalysis import ShortTermFeatures as sf\n",
    "import librosa\n",
    "import librosa.display\n",
    "import numpy as np\n",
    "import pandas as pd\n",
    "import warnings\n",
    "warnings.filterwarnings(\"ignore\")"
   ]
  },
  {
   "cell_type": "code",
   "execution_count": 64,
   "id": "fa7c30d3",
   "metadata": {},
   "outputs": [],
   "source": [
    "file_paths = glob('../Raw/Video/Segmented/*')"
   ]
  },
  {
   "cell_type": "code",
   "execution_count": 65,
   "id": "75c770b5",
   "metadata": {},
   "outputs": [],
   "source": [
    "data = pd.read_csv('OpinionLevelSentiment.csv', names = ['Seg Start', 'Segment end', 'Name','Seg No', 'Review'])"
   ]
  },
  {
   "cell_type": "code",
   "execution_count": 66,
   "id": "c72957df",
   "metadata": {},
   "outputs": [
    {
     "data": {
      "text/html": [
       "<div>\n",
       "<style scoped>\n",
       "    .dataframe tbody tr th:only-of-type {\n",
       "        vertical-align: middle;\n",
       "    }\n",
       "\n",
       "    .dataframe tbody tr th {\n",
       "        vertical-align: top;\n",
       "    }\n",
       "\n",
       "    .dataframe thead th {\n",
       "        text-align: right;\n",
       "    }\n",
       "</style>\n",
       "<table border=\"1\" class=\"dataframe\">\n",
       "  <thead>\n",
       "    <tr style=\"text-align: right;\">\n",
       "      <th></th>\n",
       "      <th>Seg Start</th>\n",
       "      <th>Segment end</th>\n",
       "      <th>Name</th>\n",
       "      <th>Seg No</th>\n",
       "      <th>Review</th>\n",
       "    </tr>\n",
       "  </thead>\n",
       "  <tbody>\n",
       "    <tr>\n",
       "      <th>0</th>\n",
       "      <td>27.879138</td>\n",
       "      <td>32.927664</td>\n",
       "      <td>_dI--eQ6qVU</td>\n",
       "      <td>1</td>\n",
       "      <td>2.4</td>\n",
       "    </tr>\n",
       "    <tr>\n",
       "      <th>1</th>\n",
       "      <td>45.548980</td>\n",
       "      <td>47.783900</td>\n",
       "      <td>_dI--eQ6qVU</td>\n",
       "      <td>2</td>\n",
       "      <td>3.0</td>\n",
       "    </tr>\n",
       "    <tr>\n",
       "      <th>2</th>\n",
       "      <td>47.783900</td>\n",
       "      <td>59.247846</td>\n",
       "      <td>_dI--eQ6qVU</td>\n",
       "      <td>3</td>\n",
       "      <td>-0.2</td>\n",
       "    </tr>\n",
       "    <tr>\n",
       "      <th>3</th>\n",
       "      <td>59.247846</td>\n",
       "      <td>68.277324</td>\n",
       "      <td>_dI--eQ6qVU</td>\n",
       "      <td>4</td>\n",
       "      <td>3.0</td>\n",
       "    </tr>\n",
       "    <tr>\n",
       "      <th>4</th>\n",
       "      <td>68.277324</td>\n",
       "      <td>71.200680</td>\n",
       "      <td>_dI--eQ6qVU</td>\n",
       "      <td>5</td>\n",
       "      <td>3.0</td>\n",
       "    </tr>\n",
       "    <tr>\n",
       "      <th>...</th>\n",
       "      <td>...</td>\n",
       "      <td>...</td>\n",
       "      <td>...</td>\n",
       "      <td>...</td>\n",
       "      <td>...</td>\n",
       "    </tr>\n",
       "    <tr>\n",
       "      <th>2194</th>\n",
       "      <td>147.217914</td>\n",
       "      <td>153.703175</td>\n",
       "      <td>ZUXBRvtny7o</td>\n",
       "      <td>30</td>\n",
       "      <td>0.4</td>\n",
       "    </tr>\n",
       "    <tr>\n",
       "      <th>2195</th>\n",
       "      <td>157.265079</td>\n",
       "      <td>161.256009</td>\n",
       "      <td>ZUXBRvtny7o</td>\n",
       "      <td>31</td>\n",
       "      <td>1.4</td>\n",
       "    </tr>\n",
       "    <tr>\n",
       "      <th>2196</th>\n",
       "      <td>161.256009</td>\n",
       "      <td>173.049206</td>\n",
       "      <td>ZUXBRvtny7o</td>\n",
       "      <td>32</td>\n",
       "      <td>0.4</td>\n",
       "    </tr>\n",
       "    <tr>\n",
       "      <th>2197</th>\n",
       "      <td>173.049206</td>\n",
       "      <td>175.224263</td>\n",
       "      <td>ZUXBRvtny7o</td>\n",
       "      <td>33</td>\n",
       "      <td>0.8</td>\n",
       "    </tr>\n",
       "    <tr>\n",
       "      <th>2198</th>\n",
       "      <td>175.224263</td>\n",
       "      <td>180.043311</td>\n",
       "      <td>ZUXBRvtny7o</td>\n",
       "      <td>34</td>\n",
       "      <td>2.4</td>\n",
       "    </tr>\n",
       "  </tbody>\n",
       "</table>\n",
       "<p>2199 rows × 5 columns</p>\n",
       "</div>"
      ],
      "text/plain": [
       "       Seg Start  Segment end         Name  Seg No  Review\n",
       "0      27.879138    32.927664  _dI--eQ6qVU       1     2.4\n",
       "1      45.548980    47.783900  _dI--eQ6qVU       2     3.0\n",
       "2      47.783900    59.247846  _dI--eQ6qVU       3    -0.2\n",
       "3      59.247846    68.277324  _dI--eQ6qVU       4     3.0\n",
       "4      68.277324    71.200680  _dI--eQ6qVU       5     3.0\n",
       "...          ...          ...          ...     ...     ...\n",
       "2194  147.217914   153.703175  ZUXBRvtny7o      30     0.4\n",
       "2195  157.265079   161.256009  ZUXBRvtny7o      31     1.4\n",
       "2196  161.256009   173.049206  ZUXBRvtny7o      32     0.4\n",
       "2197  173.049206   175.224263  ZUXBRvtny7o      33     0.8\n",
       "2198  175.224263   180.043311  ZUXBRvtny7o      34     2.4\n",
       "\n",
       "[2199 rows x 5 columns]"
      ]
     },
     "execution_count": 66,
     "metadata": {},
     "output_type": "execute_result"
    }
   ],
   "source": [
    "dataframe = pd.DataFrame(data)\n",
    "dataframe"
   ]
  },
  {
   "cell_type": "code",
   "execution_count": 67,
   "id": "565c8710",
   "metadata": {},
   "outputs": [],
   "source": [
    "dataframe['Polarity'] = dataframe['Review']\n",
    "for i in range(len(dataframe)):\n",
    "    if(dataframe['Review'][i]>0):\n",
    "        #positive\n",
    "        dataframe['Polarity'][i] = 1\n",
    "    else:\n",
    "        #negative\n",
    "        dataframe['Polarity'][i] = 0"
   ]
  },
  {
   "cell_type": "code",
   "execution_count": 68,
   "id": "06e0f3ef",
   "metadata": {},
   "outputs": [
    {
     "data": {
      "text/html": [
       "<div>\n",
       "<style scoped>\n",
       "    .dataframe tbody tr th:only-of-type {\n",
       "        vertical-align: middle;\n",
       "    }\n",
       "\n",
       "    .dataframe tbody tr th {\n",
       "        vertical-align: top;\n",
       "    }\n",
       "\n",
       "    .dataframe thead th {\n",
       "        text-align: right;\n",
       "    }\n",
       "</style>\n",
       "<table border=\"1\" class=\"dataframe\">\n",
       "  <thead>\n",
       "    <tr style=\"text-align: right;\">\n",
       "      <th></th>\n",
       "      <th>Seg Start</th>\n",
       "      <th>Segment end</th>\n",
       "      <th>Name</th>\n",
       "      <th>Seg No</th>\n",
       "      <th>Review</th>\n",
       "      <th>Polarity</th>\n",
       "    </tr>\n",
       "  </thead>\n",
       "  <tbody>\n",
       "    <tr>\n",
       "      <th>0</th>\n",
       "      <td>27.879138</td>\n",
       "      <td>32.927664</td>\n",
       "      <td>_dI--eQ6qVU</td>\n",
       "      <td>1</td>\n",
       "      <td>2.4</td>\n",
       "      <td>1.0</td>\n",
       "    </tr>\n",
       "    <tr>\n",
       "      <th>1</th>\n",
       "      <td>45.548980</td>\n",
       "      <td>47.783900</td>\n",
       "      <td>_dI--eQ6qVU</td>\n",
       "      <td>2</td>\n",
       "      <td>3.0</td>\n",
       "      <td>1.0</td>\n",
       "    </tr>\n",
       "    <tr>\n",
       "      <th>2</th>\n",
       "      <td>47.783900</td>\n",
       "      <td>59.247846</td>\n",
       "      <td>_dI--eQ6qVU</td>\n",
       "      <td>3</td>\n",
       "      <td>-0.2</td>\n",
       "      <td>0.0</td>\n",
       "    </tr>\n",
       "    <tr>\n",
       "      <th>3</th>\n",
       "      <td>59.247846</td>\n",
       "      <td>68.277324</td>\n",
       "      <td>_dI--eQ6qVU</td>\n",
       "      <td>4</td>\n",
       "      <td>3.0</td>\n",
       "      <td>1.0</td>\n",
       "    </tr>\n",
       "    <tr>\n",
       "      <th>4</th>\n",
       "      <td>68.277324</td>\n",
       "      <td>71.200680</td>\n",
       "      <td>_dI--eQ6qVU</td>\n",
       "      <td>5</td>\n",
       "      <td>3.0</td>\n",
       "      <td>1.0</td>\n",
       "    </tr>\n",
       "    <tr>\n",
       "      <th>...</th>\n",
       "      <td>...</td>\n",
       "      <td>...</td>\n",
       "      <td>...</td>\n",
       "      <td>...</td>\n",
       "      <td>...</td>\n",
       "      <td>...</td>\n",
       "    </tr>\n",
       "    <tr>\n",
       "      <th>2194</th>\n",
       "      <td>147.217914</td>\n",
       "      <td>153.703175</td>\n",
       "      <td>ZUXBRvtny7o</td>\n",
       "      <td>30</td>\n",
       "      <td>0.4</td>\n",
       "      <td>1.0</td>\n",
       "    </tr>\n",
       "    <tr>\n",
       "      <th>2195</th>\n",
       "      <td>157.265079</td>\n",
       "      <td>161.256009</td>\n",
       "      <td>ZUXBRvtny7o</td>\n",
       "      <td>31</td>\n",
       "      <td>1.4</td>\n",
       "      <td>1.0</td>\n",
       "    </tr>\n",
       "    <tr>\n",
       "      <th>2196</th>\n",
       "      <td>161.256009</td>\n",
       "      <td>173.049206</td>\n",
       "      <td>ZUXBRvtny7o</td>\n",
       "      <td>32</td>\n",
       "      <td>0.4</td>\n",
       "      <td>1.0</td>\n",
       "    </tr>\n",
       "    <tr>\n",
       "      <th>2197</th>\n",
       "      <td>173.049206</td>\n",
       "      <td>175.224263</td>\n",
       "      <td>ZUXBRvtny7o</td>\n",
       "      <td>33</td>\n",
       "      <td>0.8</td>\n",
       "      <td>1.0</td>\n",
       "    </tr>\n",
       "    <tr>\n",
       "      <th>2198</th>\n",
       "      <td>175.224263</td>\n",
       "      <td>180.043311</td>\n",
       "      <td>ZUXBRvtny7o</td>\n",
       "      <td>34</td>\n",
       "      <td>2.4</td>\n",
       "      <td>1.0</td>\n",
       "    </tr>\n",
       "  </tbody>\n",
       "</table>\n",
       "<p>2199 rows × 6 columns</p>\n",
       "</div>"
      ],
      "text/plain": [
       "       Seg Start  Segment end         Name  Seg No  Review  Polarity\n",
       "0      27.879138    32.927664  _dI--eQ6qVU       1     2.4       1.0\n",
       "1      45.548980    47.783900  _dI--eQ6qVU       2     3.0       1.0\n",
       "2      47.783900    59.247846  _dI--eQ6qVU       3    -0.2       0.0\n",
       "3      59.247846    68.277324  _dI--eQ6qVU       4     3.0       1.0\n",
       "4      68.277324    71.200680  _dI--eQ6qVU       5     3.0       1.0\n",
       "...          ...          ...          ...     ...     ...       ...\n",
       "2194  147.217914   153.703175  ZUXBRvtny7o      30     0.4       1.0\n",
       "2195  157.265079   161.256009  ZUXBRvtny7o      31     1.4       1.0\n",
       "2196  161.256009   173.049206  ZUXBRvtny7o      32     0.4       1.0\n",
       "2197  173.049206   175.224263  ZUXBRvtny7o      33     0.8       1.0\n",
       "2198  175.224263   180.043311  ZUXBRvtny7o      34     2.4       1.0\n",
       "\n",
       "[2199 rows x 6 columns]"
      ]
     },
     "execution_count": 68,
     "metadata": {},
     "output_type": "execute_result"
    }
   ],
   "source": [
    "dataframe"
   ]
  },
  {
   "cell_type": "code",
   "execution_count": 69,
   "id": "299fdf98",
   "metadata": {},
   "outputs": [],
   "source": [
    "p = 0\n",
    "n = 0\n",
    "for i in range(2199):\n",
    "    if(dataframe['Polarity'][i] == 1):\n",
    "        p+=1\n",
    "    else:\n",
    "        n+=1"
   ]
  },
  {
   "cell_type": "code",
   "execution_count": 323,
   "id": "e6f203c9",
   "metadata": {},
   "outputs": [
    {
     "data": {
      "text/plain": [
       "array([[1.],\n",
       "       [1.],\n",
       "       [1.],\n",
       "       [0.],\n",
       "       [1.],\n",
       "       [0.],\n",
       "       [1.],\n",
       "       [0.],\n",
       "       [1.],\n",
       "       [0.],\n",
       "       [1.],\n",
       "       [1.],\n",
       "       [0.],\n",
       "       [0.],\n",
       "       [1.],\n",
       "       [0.],\n",
       "       [0.],\n",
       "       [1.],\n",
       "       [1.],\n",
       "       [0.],\n",
       "       [1.],\n",
       "       [1.],\n",
       "       [1.],\n",
       "       [1.],\n",
       "       [0.],\n",
       "       [0.],\n",
       "       [1.],\n",
       "       [0.],\n",
       "       [0.]], dtype=float32)"
      ]
     },
     "execution_count": 323,
     "metadata": {},
     "output_type": "execute_result"
    }
   ],
   "source": [
    "p"
   ]
  },
  {
   "cell_type": "code",
   "execution_count": 71,
   "id": "311b3b31",
   "metadata": {},
   "outputs": [
    {
     "data": {
      "text/plain": [
       "1119"
      ]
     },
     "execution_count": 71,
     "metadata": {},
     "output_type": "execute_result"
    }
   ],
   "source": [
    "n"
   ]
  },
  {
   "cell_type": "code",
   "execution_count": null,
   "id": "e8f1bb40",
   "metadata": {},
   "outputs": [],
   "source": []
  },
  {
   "cell_type": "code",
   "execution_count": null,
   "id": "77fe919b",
   "metadata": {},
   "outputs": [],
   "source": []
  },
  {
   "cell_type": "code",
   "execution_count": null,
   "id": "fcc2a0f2",
   "metadata": {},
   "outputs": [],
   "source": []
  },
  {
   "cell_type": "code",
   "execution_count": null,
   "id": "7199f4af",
   "metadata": {},
   "outputs": [],
   "source": []
  },
  {
   "cell_type": "code",
   "execution_count": 72,
   "id": "086d6a8d",
   "metadata": {},
   "outputs": [],
   "source": [
    "def load_file(filepath):\n",
    "    y,sr = librosa.load(filepath)\n",
    "    return (y,sr)"
   ]
  },
  {
   "cell_type": "code",
   "execution_count": 73,
   "id": "951200ab",
   "metadata": {},
   "outputs": [],
   "source": [
    "def divide_segments(y_time,start):\n",
    "    # divide into 50 ms segments\n",
    "    # 50ms -> means 1102 samples    \n",
    "    y_segmented = y_time[start:start+1102]\n",
    "    return y_segmented"
   ]
  },
  {
   "cell_type": "code",
   "execution_count": 74,
   "id": "6dfbcd45",
   "metadata": {},
   "outputs": [],
   "source": [
    "def stft(y_seg , sr, window, step):\n",
    "    [f,f_name] = sf.feature_extraction(y_seg,sr, window, step,  deltas = False)\n",
    "    return f"
   ]
  },
  {
   "cell_type": "code",
   "execution_count": 75,
   "id": "1ca2f09c",
   "metadata": {},
   "outputs": [],
   "source": [
    "def feature_matricization(y_time):\n",
    "    y_seg = divide_segments(y_time,0)\n",
    "    y_stft = stft(y_seg,sr,0.05*sr,0.05*sr)\n",
    "    y_stft = y_stft.reshape(34)\n",
    "    \n",
    "    start = 1111\n",
    "    y_stfts = y_stft\n",
    "    while(start <= len(y_time)-1111):\n",
    "        y_seg = divide_segments(y_time,start)\n",
    "        #print(y_seg)\n",
    "        start += 1111\n",
    "        y_stft = stft(y_seg,sr,0.05*sr,0.05*sr)\n",
    "        #y_stft_arr = np.asarray(y_stft).T\n",
    "        y_stft = y_stft.reshape(34)\n",
    "        y_stfts = np.vstack((y_stfts, y_stft))\n",
    "        #print(y_stft_arr.shape)\n",
    "\n",
    "        #np.column_stack((y_stfts, y_stft_arr))\n",
    "        \n",
    "    if(len(y_stfts)<300):\n",
    "        #cal how less\n",
    "        x = 300 - len(y_stfts)%300\n",
    "        zeros_arr = np.zeros(shape = (x,34))\n",
    "        x_arr = np.asanyarray(y_stfts)\n",
    "        x_arr = x_arr.reshape(-1,34)\n",
    "        x_final = np.vstack((x_arr,zeros_arr))\n",
    "        \n",
    "        return x_final\n",
    "    if(len(y_stfts)>=300):\n",
    "        y_stfts = y_stfts[0:300]\n",
    "        return np.asanyarray(y_stfts)"
   ]
  },
  {
   "cell_type": "code",
   "execution_count": null,
   "id": "a17386e6",
   "metadata": {},
   "outputs": [],
   "source": []
  },
  {
   "cell_type": "code",
   "execution_count": null,
   "id": "d5fcf6ae",
   "metadata": {},
   "outputs": [],
   "source": []
  },
  {
   "cell_type": "code",
   "execution_count": 138,
   "id": "addf58ae",
   "metadata": {},
   "outputs": [
    {
     "name": "stdout",
     "output_type": "stream",
     "text": [
      "114\n"
     ]
    }
   ],
   "source": [
    "file_path = 'C:/Users/Tanvi Kandalla/Documents/GAIP/NUS-Project-Audio-Sentiment-Analysis-/Raw/Video/Segmented/' + dataframe['Name'][0] +  '_' + dataframe['Seg No'][0].__str__() +'.mp4'\n",
    "label = dataframe['Polarity'][0]\n",
    "labels = np.asarray(label)\n",
    "y,sr = librosa.load(file_path)\n",
    "y_time = librosa.frames_to_time(y)\n",
    "feat = feature_matricization(y_time)\n",
    "features = feat\n",
    "print(len(file_path))\n",
    "for i in range(len(file_path)):\n",
    "    if(i!=0):\n",
    "        #print(i)\n",
    "        file_path = 'C:/Users/Tanvi Kandalla/Documents/GAIP/NUS-Project-Audio-Sentiment-Analysis-/Raw/Video/Segmented/' + dataframe['Name'][i] +  '_' + dataframe['Seg No'][i].__str__() +'.mp4'\n",
    "        label = dataframe['Polarity'][i]\n",
    "        labels = np.vstack((labels,label))\n",
    "        y,sr = librosa.load(file_path)\n",
    "        y_time = librosa.frames_to_time(y)\n",
    "        feat = feature_matricization(y_time)\n",
    "        features = np.vstack((features,feat))"
   ]
  },
  {
   "cell_type": "code",
   "execution_count": 139,
   "id": "a148bf94",
   "metadata": {},
   "outputs": [
    {
     "data": {
      "text/plain": [
       "array([[1.],\n",
       "       [1.],\n",
       "       [0.],\n",
       "       [1.],\n",
       "       [1.],\n",
       "       [1.],\n",
       "       [1.],\n",
       "       [1.],\n",
       "       [1.],\n",
       "       [1.],\n",
       "       [1.],\n",
       "       [1.],\n",
       "       [1.],\n",
       "       [1.],\n",
       "       [1.],\n",
       "       [1.],\n",
       "       [0.],\n",
       "       [1.],\n",
       "       [1.],\n",
       "       [1.],\n",
       "       [1.],\n",
       "       [1.],\n",
       "       [0.],\n",
       "       [1.],\n",
       "       [1.],\n",
       "       [0.],\n",
       "       [0.],\n",
       "       [1.],\n",
       "       [1.],\n",
       "       [0.],\n",
       "       [0.],\n",
       "       [0.],\n",
       "       [0.],\n",
       "       [0.],\n",
       "       [1.],\n",
       "       [0.],\n",
       "       [1.],\n",
       "       [0.],\n",
       "       [0.],\n",
       "       [1.],\n",
       "       [1.],\n",
       "       [0.],\n",
       "       [0.],\n",
       "       [0.],\n",
       "       [0.],\n",
       "       [1.],\n",
       "       [0.],\n",
       "       [1.],\n",
       "       [1.],\n",
       "       [0.],\n",
       "       [0.],\n",
       "       [1.],\n",
       "       [0.],\n",
       "       [1.],\n",
       "       [1.],\n",
       "       [0.],\n",
       "       [1.],\n",
       "       [1.],\n",
       "       [0.],\n",
       "       [0.],\n",
       "       [1.],\n",
       "       [1.],\n",
       "       [1.],\n",
       "       [1.],\n",
       "       [1.],\n",
       "       [1.],\n",
       "       [0.],\n",
       "       [1.],\n",
       "       [1.],\n",
       "       [1.],\n",
       "       [0.],\n",
       "       [0.],\n",
       "       [0.],\n",
       "       [0.],\n",
       "       [1.],\n",
       "       [1.],\n",
       "       [0.],\n",
       "       [1.],\n",
       "       [0.],\n",
       "       [0.],\n",
       "       [0.],\n",
       "       [0.],\n",
       "       [1.],\n",
       "       [0.],\n",
       "       [1.],\n",
       "       [1.],\n",
       "       [0.],\n",
       "       [0.],\n",
       "       [0.],\n",
       "       [1.],\n",
       "       [1.],\n",
       "       [1.],\n",
       "       [1.],\n",
       "       [0.],\n",
       "       [0.],\n",
       "       [0.],\n",
       "       [0.],\n",
       "       [0.],\n",
       "       [0.],\n",
       "       [1.],\n",
       "       [0.],\n",
       "       [0.],\n",
       "       [1.],\n",
       "       [0.],\n",
       "       [1.],\n",
       "       [0.],\n",
       "       [1.],\n",
       "       [1.],\n",
       "       [0.],\n",
       "       [0.],\n",
       "       [0.],\n",
       "       [1.],\n",
       "       [1.],\n",
       "       [1.]])"
      ]
     },
     "execution_count": 139,
     "metadata": {},
     "output_type": "execute_result"
    }
   ],
   "source": [
    "labels"
   ]
  },
  {
   "cell_type": "code",
   "execution_count": 140,
   "id": "9020770a",
   "metadata": {},
   "outputs": [
    {
     "data": {
      "text/plain": [
       "(34200, 34)"
      ]
     },
     "execution_count": 140,
     "metadata": {},
     "output_type": "execute_result"
    }
   ],
   "source": [
    "features.shape"
   ]
  },
  {
   "cell_type": "code",
   "execution_count": 141,
   "id": "babfec9d",
   "metadata": {},
   "outputs": [],
   "source": [
    "# divide features into 300 * 34 segements"
   ]
  },
  {
   "cell_type": "code",
   "execution_count": 142,
   "id": "67ffd50e",
   "metadata": {},
   "outputs": [
    {
     "data": {
      "text/plain": [
       "114.0"
      ]
     },
     "execution_count": 142,
     "metadata": {},
     "output_type": "execute_result"
    }
   ],
   "source": [
    "# no of segments\n",
    "indices = features.shape[0]/300\n",
    "indices"
   ]
  },
  {
   "cell_type": "code",
   "execution_count": 143,
   "id": "fb2d3f1b",
   "metadata": {},
   "outputs": [],
   "source": [
    "features_segments = np.split(features,indices)"
   ]
  },
  {
   "cell_type": "code",
   "execution_count": 144,
   "id": "a44732cf",
   "metadata": {},
   "outputs": [],
   "source": [
    "feat_seg_arr = np.asanyarray(features_segments)"
   ]
  },
  {
   "cell_type": "code",
   "execution_count": 145,
   "id": "97b238f3",
   "metadata": {},
   "outputs": [
    {
     "data": {
      "text/plain": [
       "(114, 300, 34)"
      ]
     },
     "execution_count": 145,
     "metadata": {},
     "output_type": "execute_result"
    }
   ],
   "source": [
    "feat_seg_arr.shape"
   ]
  },
  {
   "cell_type": "code",
   "execution_count": 146,
   "id": "576781f4",
   "metadata": {},
   "outputs": [],
   "source": [
    "labels = labels.astype('float32')"
   ]
  },
  {
   "cell_type": "code",
   "execution_count": 147,
   "id": "eec54978",
   "metadata": {},
   "outputs": [
    {
     "data": {
      "text/plain": [
       "array([[[8.35603996e-02, 1.28462087e-01, 3.06783807e+00, ...,\n",
       "         2.19786045e-02, 2.39929811e-03, 1.88485295e-02],\n",
       "        [7.17529519e-02, 4.10557022e-02, 3.16602963e+00, ...,\n",
       "         3.15931190e-02, 2.99395294e-03, 1.44249346e-02],\n",
       "        [8.26521344e-02, 8.54380210e-02, 2.66964478e+00, ...,\n",
       "         6.96941900e-03, 4.96499094e-04, 9.12360480e-03],\n",
       "        ...,\n",
       "        [0.00000000e+00, 0.00000000e+00, 0.00000000e+00, ...,\n",
       "         0.00000000e+00, 0.00000000e+00, 0.00000000e+00],\n",
       "        [0.00000000e+00, 0.00000000e+00, 0.00000000e+00, ...,\n",
       "         0.00000000e+00, 0.00000000e+00, 0.00000000e+00],\n",
       "        [0.00000000e+00, 0.00000000e+00, 0.00000000e+00, ...,\n",
       "         0.00000000e+00, 0.00000000e+00, 0.00000000e+00]],\n",
       "\n",
       "       [[1.16257947e-01, 8.10136813e-02, 3.18858525e+00, ...,\n",
       "         6.24177729e-03, 1.22623693e-03, 1.15392452e-02],\n",
       "        [8.81017257e-02, 6.77711849e-02, 3.16352363e+00, ...,\n",
       "         1.71480622e-02, 2.68091891e-03, 1.19572139e-02],\n",
       "        [1.32606721e-01, 1.02924712e-01, 2.83613396e+00, ...,\n",
       "         3.44295636e-03, 8.36240437e-04, 1.73392397e-02],\n",
       "        ...,\n",
       "        [0.00000000e+00, 0.00000000e+00, 0.00000000e+00, ...,\n",
       "         0.00000000e+00, 0.00000000e+00, 0.00000000e+00],\n",
       "        [0.00000000e+00, 0.00000000e+00, 0.00000000e+00, ...,\n",
       "         0.00000000e+00, 0.00000000e+00, 0.00000000e+00],\n",
       "        [0.00000000e+00, 0.00000000e+00, 0.00000000e+00, ...,\n",
       "         0.00000000e+00, 0.00000000e+00, 0.00000000e+00]],\n",
       "\n",
       "       [[6.53950954e-02, 7.39456174e-02, 3.19941704e+00, ...,\n",
       "         7.14502177e-03, 7.99574105e-03, 1.67137688e-02],\n",
       "        [6.53950954e-02, 4.77474733e-02, 3.14084866e+00, ...,\n",
       "         4.64073918e-02, 7.61160851e-03, 1.40982805e-02],\n",
       "        [1.08991826e-01, 1.02716396e-01, 2.86648421e+00, ...,\n",
       "         3.64867706e-03, 2.66444947e-04, 5.12996487e-03],\n",
       "        ...,\n",
       "        [0.00000000e+00, 0.00000000e+00, 0.00000000e+00, ...,\n",
       "         0.00000000e+00, 0.00000000e+00, 0.00000000e+00],\n",
       "        [0.00000000e+00, 0.00000000e+00, 0.00000000e+00, ...,\n",
       "         0.00000000e+00, 0.00000000e+00, 0.00000000e+00],\n",
       "        [0.00000000e+00, 0.00000000e+00, 0.00000000e+00, ...,\n",
       "         0.00000000e+00, 0.00000000e+00, 0.00000000e+00]],\n",
       "\n",
       "       ...,\n",
       "\n",
       "       [[2.29791099e-01, 3.93518955e-02, 3.16988804e+00, ...,\n",
       "         1.44643628e-03, 2.32732798e-03, 5.41803174e-03],\n",
       "        [2.36148955e-01, 5.36557025e-02, 3.29411771e+00, ...,\n",
       "         5.30514039e-03, 2.10878802e-03, 5.20709108e-03],\n",
       "        [9.99091735e-02, 8.24681271e-02, 3.16129070e+00, ...,\n",
       "         2.43551480e-03, 1.85869640e-03, 4.60841697e-02],\n",
       "        ...,\n",
       "        [0.00000000e+00, 0.00000000e+00, 0.00000000e+00, ...,\n",
       "         0.00000000e+00, 0.00000000e+00, 0.00000000e+00],\n",
       "        [0.00000000e+00, 0.00000000e+00, 0.00000000e+00, ...,\n",
       "         0.00000000e+00, 0.00000000e+00, 0.00000000e+00],\n",
       "        [0.00000000e+00, 0.00000000e+00, 0.00000000e+00, ...,\n",
       "         0.00000000e+00, 0.00000000e+00, 0.00000000e+00]],\n",
       "\n",
       "       [[1.78019982e-01, 7.44900834e-02, 3.27660947e+00, ...,\n",
       "         2.74051795e-03, 5.70683165e-03, 3.78065015e-03],\n",
       "        [1.64396004e-01, 5.43928521e-02, 3.23948335e+00, ...,\n",
       "         4.48861976e-04, 1.06181936e-02, 1.17867534e-02],\n",
       "        [5.63124432e-02, 1.54399694e-01, 3.22846292e+00, ...,\n",
       "         4.43795744e-03, 1.00108728e-03, 3.46725279e-02],\n",
       "        ...,\n",
       "        [0.00000000e+00, 0.00000000e+00, 0.00000000e+00, ...,\n",
       "         0.00000000e+00, 0.00000000e+00, 0.00000000e+00],\n",
       "        [0.00000000e+00, 0.00000000e+00, 0.00000000e+00, ...,\n",
       "         0.00000000e+00, 0.00000000e+00, 0.00000000e+00],\n",
       "        [0.00000000e+00, 0.00000000e+00, 0.00000000e+00, ...,\n",
       "         0.00000000e+00, 0.00000000e+00, 0.00000000e+00]],\n",
       "\n",
       "       [[5.06811989e-01, 5.27649449e-02, 3.25050522e+00, ...,\n",
       "         1.27338951e-02, 5.80240237e-03, 3.30509929e-03],\n",
       "        [1.97093551e-01, 4.84309437e-02, 3.09996134e+00, ...,\n",
       "         6.46091689e-02, 3.28779627e-02, 1.87563581e-02],\n",
       "        [1.90735695e-01, 6.16506869e-02, 3.05833913e+00, ...,\n",
       "         4.59025385e-03, 1.07267729e-02, 4.58296643e-03],\n",
       "        ...,\n",
       "        [0.00000000e+00, 0.00000000e+00, 0.00000000e+00, ...,\n",
       "         0.00000000e+00, 0.00000000e+00, 0.00000000e+00],\n",
       "        [0.00000000e+00, 0.00000000e+00, 0.00000000e+00, ...,\n",
       "         0.00000000e+00, 0.00000000e+00, 0.00000000e+00],\n",
       "        [0.00000000e+00, 0.00000000e+00, 0.00000000e+00, ...,\n",
       "         0.00000000e+00, 0.00000000e+00, 0.00000000e+00]]])"
      ]
     },
     "execution_count": 147,
     "metadata": {},
     "output_type": "execute_result"
    }
   ],
   "source": [
    "feat_seg_arr"
   ]
  },
  {
   "cell_type": "code",
   "execution_count": 148,
   "id": "e4ddbcbb",
   "metadata": {},
   "outputs": [
    {
     "data": {
      "text/plain": [
       "array([ 7.17529519e-02,  4.10557022e-02,  3.16602963e+00,  3.50793637e-01,\n",
       "        2.92696147e-01,  1.88276576e+00,  0.00000000e+00,  5.29945554e-01,\n",
       "       -2.16972425e+01,  1.43763990e+00,  3.59081111e-01,  4.89837881e-01,\n",
       "        3.00855217e-01, -1.11760307e-01, -2.12184171e-01, -1.26670672e-01,\n",
       "        2.45389000e-01,  9.70260114e-02, -2.08469756e-01, -3.77326015e-01,\n",
       "       -5.04313857e-02,  3.40617380e-02,  4.19158078e-03,  2.54604638e-02,\n",
       "        4.70100344e-02,  1.34886251e-02,  3.81588418e-03,  1.12019863e-02,\n",
       "        1.07353837e-03,  3.41334481e-03,  1.94003880e-02,  3.15931190e-02,\n",
       "        2.99395294e-03,  1.44249346e-02])"
      ]
     },
     "execution_count": 148,
     "metadata": {},
     "output_type": "execute_result"
    }
   ],
   "source": [
    "feat_seg_arr[0][1]"
   ]
  },
  {
   "cell_type": "code",
   "execution_count": 149,
   "id": "1e0dafea",
   "metadata": {},
   "outputs": [
    {
     "ename": "KeyboardInterrupt",
     "evalue": "",
     "output_type": "error",
     "traceback": [
      "\u001b[1;31m---------------------------------------------------------------------------\u001b[0m",
      "\u001b[1;31mKeyboardInterrupt\u001b[0m                         Traceback (most recent call last)",
      "Input \u001b[1;32mIn [149]\u001b[0m, in \u001b[0;36m<cell line: 2>\u001b[1;34m()\u001b[0m\n\u001b[0;32m      4\u001b[0m \u001b[38;5;28;01mfor\u001b[39;00m k \u001b[38;5;129;01min\u001b[39;00m \u001b[38;5;28mrange\u001b[39m(feat_seg_arr\u001b[38;5;241m.\u001b[39mshape[\u001b[38;5;241m2\u001b[39m]):\n\u001b[0;32m      5\u001b[0m     \u001b[38;5;28;01mif\u001b[39;00m(feat_seg_arr[i][j]\u001b[38;5;241m.\u001b[39mmax()\u001b[38;5;241m!=\u001b[39m\u001b[38;5;241m0\u001b[39m):\n\u001b[1;32m----> 7\u001b[0m         feat_seg_arr_norm[i][j][k] \u001b[38;5;241m=\u001b[39m feat_seg_arr[i][j][k]\u001b[38;5;241m/\u001b[39m\u001b[43mfeat_seg_arr\u001b[49m\u001b[38;5;241;43m.\u001b[39;49m\u001b[43mmax\u001b[49m\u001b[43m(\u001b[49m\u001b[43m)\u001b[49m\n",
      "File \u001b[1;32mC:\\ProgramData\\Anaconda3\\lib\\site-packages\\numpy\\core\\_methods.py:40\u001b[0m, in \u001b[0;36m_amax\u001b[1;34m(a, axis, out, keepdims, initial, where)\u001b[0m\n\u001b[0;32m     38\u001b[0m \u001b[38;5;28;01mdef\u001b[39;00m \u001b[38;5;21m_amax\u001b[39m(a, axis\u001b[38;5;241m=\u001b[39m\u001b[38;5;28;01mNone\u001b[39;00m, out\u001b[38;5;241m=\u001b[39m\u001b[38;5;28;01mNone\u001b[39;00m, keepdims\u001b[38;5;241m=\u001b[39m\u001b[38;5;28;01mFalse\u001b[39;00m,\n\u001b[0;32m     39\u001b[0m           initial\u001b[38;5;241m=\u001b[39m_NoValue, where\u001b[38;5;241m=\u001b[39m\u001b[38;5;28;01mTrue\u001b[39;00m):\n\u001b[1;32m---> 40\u001b[0m     \u001b[38;5;28;01mreturn\u001b[39;00m \u001b[43mumr_maximum\u001b[49m\u001b[43m(\u001b[49m\u001b[43ma\u001b[49m\u001b[43m,\u001b[49m\u001b[43m \u001b[49m\u001b[43maxis\u001b[49m\u001b[43m,\u001b[49m\u001b[43m \u001b[49m\u001b[38;5;28;43;01mNone\u001b[39;49;00m\u001b[43m,\u001b[49m\u001b[43m \u001b[49m\u001b[43mout\u001b[49m\u001b[43m,\u001b[49m\u001b[43m \u001b[49m\u001b[43mkeepdims\u001b[49m\u001b[43m,\u001b[49m\u001b[43m \u001b[49m\u001b[43minitial\u001b[49m\u001b[43m,\u001b[49m\u001b[43m \u001b[49m\u001b[43mwhere\u001b[49m\u001b[43m)\u001b[49m\n",
      "\u001b[1;31mKeyboardInterrupt\u001b[0m: "
     ]
    }
   ],
   "source": [
    "feat_seg_arr_norm = feat_seg_arr\n",
    "for i in range(feat_seg_arr.shape[0]):\n",
    "    for j in range(feat_seg_arr.shape[1]):\n",
    "        for k in range(feat_seg_arr.shape[2]):\n",
    "            if(feat_seg_arr[i][j].max()!=0):\n",
    "                \n",
    "                feat_seg_arr_norm[i][j][k] = feat_seg_arr[i][j][k]/feat_seg_arr.max()"
   ]
  },
  {
   "cell_type": "code",
   "execution_count": null,
   "id": "1bce3b9c",
   "metadata": {},
   "outputs": [],
   "source": [
    "feat_seg_arr_norm"
   ]
  },
  {
   "cell_type": "code",
   "execution_count": null,
   "id": "4d6a4c4f",
   "metadata": {},
   "outputs": [],
   "source": []
  },
  {
   "cell_type": "code",
   "execution_count": null,
   "id": "f21acfc7",
   "metadata": {},
   "outputs": [],
   "source": []
  },
  {
   "cell_type": "code",
   "execution_count": null,
   "id": "698b9f95",
   "metadata": {},
   "outputs": [],
   "source": []
  },
  {
   "cell_type": "code",
   "execution_count": null,
   "id": "f657bba3",
   "metadata": {},
   "outputs": [],
   "source": []
  },
  {
   "cell_type": "code",
   "execution_count": null,
   "id": "9c94ffc0",
   "metadata": {},
   "outputs": [],
   "source": []
  },
  {
   "cell_type": "code",
   "execution_count": 150,
   "id": "4d70ecee",
   "metadata": {},
   "outputs": [
    {
     "data": {
      "text/plain": [
       "(34200, 34)"
      ]
     },
     "execution_count": 150,
     "metadata": {},
     "output_type": "execute_result"
    }
   ],
   "source": [
    "features.shape"
   ]
  },
  {
   "cell_type": "code",
   "execution_count": 151,
   "id": "e433564b",
   "metadata": {},
   "outputs": [
    {
     "name": "stdout",
     "output_type": "stream",
     "text": [
      "[[1.]\n",
      " [1.]\n",
      " [0.]\n",
      " [1.]\n",
      " [1.]\n",
      " [1.]\n",
      " [1.]\n",
      " [1.]\n",
      " [1.]\n",
      " [1.]\n",
      " [1.]\n",
      " [1.]\n",
      " [1.]\n",
      " [1.]\n",
      " [1.]\n",
      " [1.]\n",
      " [0.]\n",
      " [1.]\n",
      " [1.]\n",
      " [1.]\n",
      " [1.]\n",
      " [1.]\n",
      " [0.]\n",
      " [1.]\n",
      " [1.]\n",
      " [0.]\n",
      " [0.]\n",
      " [1.]\n",
      " [1.]\n",
      " [0.]\n",
      " [0.]\n",
      " [0.]\n",
      " [0.]\n",
      " [0.]\n",
      " [1.]\n",
      " [0.]\n",
      " [1.]\n",
      " [0.]\n",
      " [0.]\n",
      " [1.]\n",
      " [1.]\n",
      " [0.]\n",
      " [0.]\n",
      " [0.]\n",
      " [0.]\n",
      " [1.]\n",
      " [0.]\n",
      " [1.]\n",
      " [1.]\n",
      " [0.]\n",
      " [0.]\n",
      " [1.]\n",
      " [0.]\n",
      " [1.]\n",
      " [1.]\n",
      " [0.]\n",
      " [1.]\n",
      " [1.]\n",
      " [0.]\n",
      " [0.]\n",
      " [1.]\n",
      " [1.]\n",
      " [1.]\n",
      " [1.]\n",
      " [1.]\n",
      " [1.]\n",
      " [0.]\n",
      " [1.]\n",
      " [1.]\n",
      " [1.]\n",
      " [0.]\n",
      " [0.]\n",
      " [0.]\n",
      " [0.]\n",
      " [1.]\n",
      " [1.]\n",
      " [0.]\n",
      " [1.]\n",
      " [0.]\n",
      " [0.]\n",
      " [0.]\n",
      " [0.]\n",
      " [1.]\n",
      " [0.]\n",
      " [1.]\n",
      " [1.]\n",
      " [0.]\n",
      " [0.]\n",
      " [0.]\n",
      " [1.]\n",
      " [1.]\n",
      " [1.]\n",
      " [1.]\n",
      " [0.]\n",
      " [0.]\n",
      " [0.]\n",
      " [0.]\n",
      " [0.]\n",
      " [0.]\n",
      " [1.]\n",
      " [0.]\n",
      " [0.]\n",
      " [1.]\n",
      " [0.]\n",
      " [1.]\n",
      " [0.]\n",
      " [1.]\n",
      " [1.]\n",
      " [0.]\n",
      " [0.]\n",
      " [0.]\n",
      " [1.]\n",
      " [1.]\n",
      " [1.]]\n"
     ]
    }
   ],
   "source": [
    "print(labels)"
   ]
  },
  {
   "cell_type": "code",
   "execution_count": 152,
   "id": "d41118d4",
   "metadata": {},
   "outputs": [
    {
     "data": {
      "text/plain": [
       "(114, 300, 34)"
      ]
     },
     "execution_count": 152,
     "metadata": {},
     "output_type": "execute_result"
    }
   ],
   "source": [
    "feat_seg_arr.shape"
   ]
  },
  {
   "cell_type": "code",
   "execution_count": 153,
   "id": "42661212",
   "metadata": {},
   "outputs": [
    {
     "data": {
      "text/plain": [
       "(114, 1)"
      ]
     },
     "execution_count": 153,
     "metadata": {},
     "output_type": "execute_result"
    }
   ],
   "source": [
    "labels.shape"
   ]
  },
  {
   "cell_type": "code",
   "execution_count": 154,
   "id": "4f82107c",
   "metadata": {},
   "outputs": [],
   "source": [
    "# train test split"
   ]
  },
  {
   "cell_type": "code",
   "execution_count": 398,
   "id": "c5396e07",
   "metadata": {},
   "outputs": [],
   "source": [
    "from sklearn.model_selection import train_test_split"
   ]
  },
  {
   "cell_type": "code",
   "execution_count": 399,
   "id": "b4695421",
   "metadata": {},
   "outputs": [],
   "source": [
    "X_train, X_test, y_train, y_test = train_test_split(feat_seg_arr, labels,random_state = 10)"
   ]
  },
  {
   "cell_type": "code",
   "execution_count": 400,
   "id": "ac0bfb78",
   "metadata": {
    "scrolled": true
   },
   "outputs": [
    {
     "name": "stdout",
     "output_type": "stream",
     "text": [
      "[[False False False ... False False False]\n",
      " [False False False ... False False False]\n",
      " [False False False ... False False False]\n",
      " ...\n",
      " [ True  True  True ...  True  True  True]\n",
      " [ True  True  True ...  True  True  True]\n",
      " [ True  True  True ...  True  True  True]]\n"
     ]
    }
   ],
   "source": [
    "print(X_train[10] == X_train[1])"
   ]
  },
  {
   "cell_type": "code",
   "execution_count": null,
   "id": "38dba616",
   "metadata": {},
   "outputs": [],
   "source": []
  },
  {
   "cell_type": "code",
   "execution_count": null,
   "id": "d89f4771",
   "metadata": {},
   "outputs": [],
   "source": []
  },
  {
   "cell_type": "code",
   "execution_count": 401,
   "id": "eb020406",
   "metadata": {},
   "outputs": [
    {
     "data": {
      "text/plain": [
       "(85, 300, 34)"
      ]
     },
     "execution_count": 401,
     "metadata": {},
     "output_type": "execute_result"
    }
   ],
   "source": [
    "X_train.shape"
   ]
  },
  {
   "cell_type": "code",
   "execution_count": 402,
   "id": "0f4ec667",
   "metadata": {},
   "outputs": [
    {
     "data": {
      "text/plain": [
       "(85, 1)"
      ]
     },
     "execution_count": 402,
     "metadata": {},
     "output_type": "execute_result"
    }
   ],
   "source": [
    "y_train.shape"
   ]
  },
  {
   "cell_type": "code",
   "execution_count": null,
   "id": "3a55ea4a",
   "metadata": {},
   "outputs": [],
   "source": []
  },
  {
   "cell_type": "code",
   "execution_count": 403,
   "id": "7f591091",
   "metadata": {},
   "outputs": [],
   "source": [
    "import tensorflow as tf"
   ]
  },
  {
   "cell_type": "code",
   "execution_count": 404,
   "id": "602153bc",
   "metadata": {},
   "outputs": [],
   "source": [
    "from tensorflow.keras.models import Sequential\n",
    "from tensorflow.keras import layers\n",
    "from tensorflow.keras.layers import Dense, Dropout\n",
    "from tensorflow.keras.layers import TimeDistributed,LSTM,BatchNormalization"
   ]
  },
  {
   "cell_type": "code",
   "execution_count": 405,
   "id": "e913e282",
   "metadata": {},
   "outputs": [
    {
     "data": {
      "text/plain": [
       "'model = Sequential()'"
      ]
     },
     "execution_count": 405,
     "metadata": {},
     "output_type": "execute_result"
    }
   ],
   "source": [
    "\"\"\"model = Sequential()\"\"\""
   ]
  },
  {
   "cell_type": "code",
   "execution_count": 406,
   "id": "7df080ca",
   "metadata": {},
   "outputs": [
    {
     "data": {
      "text/plain": [
       "\"model = Sequential()\\nmodel.add(layers.Conv1D(256, 5,padding='same',\\n                 input_shape=(300,34)))\\nmodel.add(layers.Activation('relu'))\\nmodel.add(layers.MaxPooling1D(pool_size=(8)))\\nmodel.add(layers.Dropout(0.2))\\nmodel.add(layers.Conv1D(128, 5,padding='same'))\\nmodel.add(layers.Activation('relu'))\\nmodel.add(layers.MaxPooling1D(pool_size=(4)))\\n\\nmodel.add(layers.Conv1D(256, 5,padding='same',\\n                 input_shape=(300,34)))\\nmodel.add(layers.Activation('relu'))\\n#model.add(layers.MaxPooling1D(pool_size=(8)))\\nmodel.add(layers.Dropout(0.2))\\nmodel.add(layers.Conv1D(128, 5,padding='same'))\\nmodel.add(layers.Activation('relu'))\\nmodel.add(layers.MaxPooling1D(pool_size=(4)))\\n\\nmodel.add(layers.Dropout(0.1))\\nmodel.add(layers.Flatten())\\nmodel.add(layers.Dense(256))\\nmodel.add(layers.Dense(128))\\nmodel.add(layers.Dense(1))\\nmodel.add(layers.Activation('sigmoid'))\""
      ]
     },
     "execution_count": 406,
     "metadata": {},
     "output_type": "execute_result"
    }
   ],
   "source": [
    "\"\"\"model = Sequential()\n",
    "model.add(layers.Conv1D(256, 5,padding='same',\n",
    "                 input_shape=(300,34)))\n",
    "model.add(layers.Activation('relu'))\n",
    "model.add(layers.MaxPooling1D(pool_size=(8)))\n",
    "model.add(layers.Dropout(0.2))\n",
    "model.add(layers.Conv1D(128, 5,padding='same'))\n",
    "model.add(layers.Activation('relu'))\n",
    "model.add(layers.MaxPooling1D(pool_size=(4)))\n",
    "\n",
    "model.add(layers.Conv1D(256, 5,padding='same',\n",
    "                 input_shape=(300,34)))\n",
    "model.add(layers.Activation('relu'))\n",
    "#model.add(layers.MaxPooling1D(pool_size=(8)))\n",
    "model.add(layers.Dropout(0.2))\n",
    "model.add(layers.Conv1D(128, 5,padding='same'))\n",
    "model.add(layers.Activation('relu'))\n",
    "model.add(layers.MaxPooling1D(pool_size=(4)))\n",
    "\n",
    "model.add(layers.Dropout(0.1))\n",
    "model.add(layers.Flatten())\n",
    "model.add(layers.Dense(256))\n",
    "model.add(layers.Dense(128))\n",
    "model.add(layers.Dense(1))\n",
    "model.add(layers.Activation('sigmoid'))\"\"\""
   ]
  },
  {
   "cell_type": "code",
   "execution_count": 407,
   "id": "934d0f3d",
   "metadata": {},
   "outputs": [
    {
     "data": {
      "text/plain": [
       "\"model.compile(optimizer = 'Adam' , loss = tf.keras.losses.binary_crossentropy, metrics = ['accuracy'])\""
      ]
     },
     "execution_count": 407,
     "metadata": {},
     "output_type": "execute_result"
    }
   ],
   "source": [
    "\"\"\"model.compile(optimizer = 'Adam' , loss = tf.keras.losses.binary_crossentropy, metrics = ['accuracy'])\"\"\""
   ]
  },
  {
   "cell_type": "code",
   "execution_count": 420,
   "id": "d0888ea4",
   "metadata": {},
   "outputs": [
    {
     "name": "stdout",
     "output_type": "stream",
     "text": [
      "Model: \"sequential_40\"\n",
      "_________________________________________________________________\n",
      " Layer (type)                Output Shape              Param #   \n",
      "=================================================================\n",
      " conv1d_96 (Conv1D)          (None, 300, 96)           16416     \n",
      "                                                                 \n",
      " batch_normalization_59 (Bat  (None, 300, 96)          384       \n",
      " chNormalization)                                                \n",
      "                                                                 \n",
      " activation_127 (Activation)  (None, 300, 96)          0         \n",
      "                                                                 \n",
      " max_pooling1d_64 (MaxPoolin  (None, 38, 96)           0         \n",
      " g1D)                                                            \n",
      "                                                                 \n",
      " conv1d_97 (Conv1D)          (None, 38, 256)           123136    \n",
      "                                                                 \n",
      " batch_normalization_60 (Bat  (None, 38, 256)          1024      \n",
      " chNormalization)                                                \n",
      "                                                                 \n",
      " activation_128 (Activation)  (None, 38, 256)          0         \n",
      "                                                                 \n",
      " max_pooling1d_65 (MaxPoolin  (None, 10, 256)          0         \n",
      " g1D)                                                            \n",
      "                                                                 \n",
      " conv1d_98 (Conv1D)          (None, 10, 384)           491904    \n",
      "                                                                 \n",
      " batch_normalization_61 (Bat  (None, 10, 384)          1536      \n",
      " chNormalization)                                                \n",
      "                                                                 \n",
      " activation_129 (Activation)  (None, 10, 384)          0         \n",
      "                                                                 \n",
      " conv1d_99 (Conv1D)          (None, 10, 384)           737664    \n",
      "                                                                 \n",
      " batch_normalization_62 (Bat  (None, 10, 384)          1536      \n",
      " chNormalization)                                                \n",
      "                                                                 \n",
      " activation_130 (Activation)  (None, 10, 384)          0         \n",
      "                                                                 \n",
      " conv1d_100 (Conv1D)         (None, 10, 384)           737664    \n",
      "                                                                 \n",
      " batch_normalization_63 (Bat  (None, 10, 384)          1536      \n",
      " chNormalization)                                                \n",
      "                                                                 \n",
      " activation_131 (Activation)  (None, 10, 384)          0         \n",
      "                                                                 \n",
      " max_pooling1d_66 (MaxPoolin  (None, 3, 384)           0         \n",
      " g1D)                                                            \n",
      "                                                                 \n",
      " dropout_61 (Dropout)        (None, 3, 384)            0         \n",
      "                                                                 \n",
      " flatten_21 (Flatten)        (None, 1152)              0         \n",
      "                                                                 \n",
      " dense_50 (Dense)            (None, 4096)              4722688   \n",
      "                                                                 \n",
      " batch_normalization_64 (Bat  (None, 4096)             16384     \n",
      " chNormalization)                                                \n",
      "                                                                 \n",
      " activation_132 (Activation)  (None, 4096)             0         \n",
      "                                                                 \n",
      " dropout_62 (Dropout)        (None, 4096)              0         \n",
      "                                                                 \n",
      " dense_51 (Dense)            (None, 4096)              16781312  \n",
      "                                                                 \n",
      " batch_normalization_65 (Bat  (None, 4096)             16384     \n",
      " chNormalization)                                                \n",
      "                                                                 \n",
      " activation_133 (Activation)  (None, 4096)             0         \n",
      "                                                                 \n",
      " dropout_63 (Dropout)        (None, 4096)              0         \n",
      "                                                                 \n",
      " dense_52 (Dense)            (None, 1)                 4097      \n",
      "                                                                 \n",
      " batch_normalization_66 (Bat  (None, 1)                4         \n",
      " chNormalization)                                                \n",
      "                                                                 \n",
      " activation_134 (Activation)  (None, 1)                0         \n",
      "                                                                 \n",
      "=================================================================\n",
      "Total params: 23,653,669\n",
      "Trainable params: 23,634,275\n",
      "Non-trainable params: 19,394\n",
      "_________________________________________________________________\n"
     ]
    }
   ],
   "source": [
    "AlexNet = Sequential()\n",
    "\n",
    "#1st Convolutional Layer\n",
    "AlexNet.add(layers.Conv1D(96,5, input_shape=(300,34), padding='same'))\n",
    "AlexNet.add(layers.BatchNormalization())\n",
    "AlexNet.add(layers.Activation('relu'))\n",
    "AlexNet.add(layers.MaxPooling1D(pool_size=8, padding='same'))\n",
    "\n",
    "#2nd Convolutional Layer\n",
    "AlexNet.add(layers.Conv1D(256,5, padding='same'))\n",
    "AlexNet.add(layers.BatchNormalization())\n",
    "AlexNet.add(layers.Activation('relu'))\n",
    "AlexNet.add(layers.MaxPooling1D(pool_size=4, padding='same'))\n",
    "\n",
    "#3rd Convolutional Layer\n",
    "AlexNet.add(layers.Conv1D(384,5, padding='same'))\n",
    "AlexNet.add(layers.BatchNormalization())\n",
    "AlexNet.add(layers.Activation('relu'))\n",
    "\n",
    "#4th Convolutional Layer\n",
    "AlexNet.add(layers.Conv1D(384,5, padding='same'))\n",
    "AlexNet.add(layers.BatchNormalization())\n",
    "AlexNet.add(layers.Activation('relu'))\n",
    "#5th Convolutional Layer\n",
    "AlexNet.add(layers.Conv1D(384,5, padding='same'))\n",
    "AlexNet.add(layers.BatchNormalization())\n",
    "AlexNet.add(layers.Activation('relu'))\n",
    "AlexNet.add(layers.MaxPooling1D(pool_size=4, padding='same'))\n",
    "AlexNet.add(layers.Dropout(0.1))\n",
    "#Passing it to a Fully Connected layer\n",
    "AlexNet.add(layers.Flatten())\n",
    "# 1st Fully Connected Layer\n",
    "AlexNet.add(layers.Dense(4096, input_shape=(32,32,3,)))\n",
    "AlexNet.add(layers.BatchNormalization())\n",
    "AlexNet.add(layers.Activation('relu'))\n",
    "# Add Dropout to prevent overfitting\n",
    "AlexNet.add(layers.Dropout(0.2))\n",
    "\n",
    "#2nd Fully Connected Layer\n",
    "AlexNet.add(layers.Dense(4096))\n",
    "AlexNet.add(layers.BatchNormalization())\n",
    "AlexNet.add(layers.Activation('relu'))\n",
    "#Add Dropout\n",
    "AlexNet.add(layers.Dropout(0.4))\n",
    "\n",
    "#Output Layer\n",
    "AlexNet.add(layers.Dense(1))\n",
    "AlexNet.add(layers.BatchNormalization())\n",
    "AlexNet.add(layers.Activation('sigmoid'))\n",
    "\n",
    "#Model Summary\n",
    "AlexNet.summary()"
   ]
  },
  {
   "cell_type": "code",
   "execution_count": 421,
   "id": "758f684c",
   "metadata": {},
   "outputs": [],
   "source": [
    "AlexNet.compile(optimizer = 'Adam' , loss = tf.keras.losses.binary_crossentropy, metrics = ['accuracy'])"
   ]
  },
  {
   "cell_type": "code",
   "execution_count": 422,
   "id": "69f1f3b3",
   "metadata": {},
   "outputs": [
    {
     "name": "stdout",
     "output_type": "stream",
     "text": [
      "Epoch 1/25\n",
      "3/3 [==============================] - 7s 308ms/step - loss: 0.7962 - accuracy: 0.5647\n",
      "Epoch 2/25\n",
      "3/3 [==============================] - 1s 310ms/step - loss: 0.6648 - accuracy: 0.6000\n",
      "Epoch 3/25\n",
      "3/3 [==============================] - 1s 281ms/step - loss: 0.5495 - accuracy: 0.7294\n",
      "Epoch 4/25\n",
      "3/3 [==============================] - 1s 288ms/step - loss: 0.5644 - accuracy: 0.7412\n",
      "Epoch 5/25\n",
      "3/3 [==============================] - 1s 302ms/step - loss: 0.5423 - accuracy: 0.7412\n",
      "Epoch 6/25\n",
      "3/3 [==============================] - 1s 284ms/step - loss: 0.5451 - accuracy: 0.7765\n",
      "Epoch 7/25\n",
      "3/3 [==============================] - 1s 274ms/step - loss: 0.5085 - accuracy: 0.7765\n",
      "Epoch 8/25\n",
      "3/3 [==============================] - 1s 287ms/step - loss: 0.5461 - accuracy: 0.7294\n",
      "Epoch 9/25\n",
      "3/3 [==============================] - 1s 282ms/step - loss: 0.5033 - accuracy: 0.7765\n",
      "Epoch 10/25\n",
      "3/3 [==============================] - 1s 276ms/step - loss: 0.5114 - accuracy: 0.7647\n",
      "Epoch 11/25\n",
      "3/3 [==============================] - 1s 283ms/step - loss: 0.4872 - accuracy: 0.8118\n",
      "Epoch 12/25\n",
      "3/3 [==============================] - 1s 283ms/step - loss: 0.4827 - accuracy: 0.7882\n",
      "Epoch 13/25\n",
      "3/3 [==============================] - 1s 291ms/step - loss: 0.5304 - accuracy: 0.7529\n",
      "Epoch 14/25\n",
      "3/3 [==============================] - 1s 283ms/step - loss: 0.4569 - accuracy: 0.8118\n",
      "Epoch 15/25\n",
      "3/3 [==============================] - 1s 286ms/step - loss: 0.4601 - accuracy: 0.8471\n",
      "Epoch 16/25\n",
      "3/3 [==============================] - 1s 300ms/step - loss: 0.4140 - accuracy: 0.8706\n",
      "Epoch 17/25\n",
      "3/3 [==============================] - 1s 308ms/step - loss: 0.3718 - accuracy: 0.9529\n",
      "Epoch 18/25\n",
      "3/3 [==============================] - 1s 292ms/step - loss: 0.3635 - accuracy: 0.9412\n",
      "Epoch 19/25\n",
      "3/3 [==============================] - 1s 313ms/step - loss: 0.3765 - accuracy: 0.9412\n",
      "Epoch 20/25\n",
      "3/3 [==============================] - 1s 298ms/step - loss: 0.3478 - accuracy: 0.9647\n",
      "Epoch 21/25\n",
      "3/3 [==============================] - 1s 277ms/step - loss: 0.3226 - accuracy: 1.0000\n",
      "Epoch 22/25\n",
      "3/3 [==============================] - 1s 293ms/step - loss: 0.3287 - accuracy: 0.9765\n",
      "Epoch 23/25\n",
      "3/3 [==============================] - 1s 278ms/step - loss: 0.3305 - accuracy: 1.0000\n",
      "Epoch 24/25\n",
      "3/3 [==============================] - 1s 282ms/step - loss: 0.3194 - accuracy: 1.0000\n",
      "Epoch 25/25\n",
      "3/3 [==============================] - 1s 295ms/step - loss: 0.3156 - accuracy: 1.0000\n"
     ]
    },
    {
     "data": {
      "text/plain": [
       "<keras.callbacks.History at 0x1f66337e3a0>"
      ]
     },
     "execution_count": 422,
     "metadata": {},
     "output_type": "execute_result"
    }
   ],
   "source": [
    "AlexNet.fit(X_train,y_train,epochs = 25)"
   ]
  },
  {
   "cell_type": "code",
   "execution_count": 423,
   "id": "02e21b1c",
   "metadata": {},
   "outputs": [
    {
     "name": "stdout",
     "output_type": "stream",
     "text": [
      "1/1 [==============================] - 1s 902ms/step\n"
     ]
    }
   ],
   "source": [
    "p = AlexNet.predict(X_test)\n",
    "for i in range(len(p)):\n",
    "    if p[i]>0.9:\n",
    "        p[i] = 1.0\n",
    "    else:\n",
    "        p[i] = 0.0"
   ]
  },
  {
   "cell_type": "code",
   "execution_count": 424,
   "id": "1f1165e9",
   "metadata": {},
   "outputs": [],
   "source": [
    "from sklearn.metrics import accuracy_score"
   ]
  },
  {
   "cell_type": "code",
   "execution_count": 425,
   "id": "596dd7a6",
   "metadata": {},
   "outputs": [
    {
     "data": {
      "text/plain": [
       "0.5862068965517241"
      ]
     },
     "execution_count": 425,
     "metadata": {},
     "output_type": "execute_result"
    }
   ],
   "source": [
    "accuracy = accuracy_score(y_test,p)\n",
    "accuracy"
   ]
  },
  {
   "cell_type": "code",
   "execution_count": null,
   "id": "40d85040",
   "metadata": {},
   "outputs": [],
   "source": [
    "\n"
   ]
  },
  {
   "cell_type": "code",
   "execution_count": null,
   "id": "14d866fc",
   "metadata": {},
   "outputs": [],
   "source": []
  },
  {
   "cell_type": "code",
   "execution_count": null,
   "id": "808c51a0",
   "metadata": {},
   "outputs": [],
   "source": []
  }
 ],
 "metadata": {
  "kernelspec": {
   "display_name": "Python 3 (ipykernel)",
   "language": "python",
   "name": "python3"
  },
  "language_info": {
   "codemirror_mode": {
    "name": "ipython",
    "version": 3
   },
   "file_extension": ".py",
   "mimetype": "text/x-python",
   "name": "python",
   "nbconvert_exporter": "python",
   "pygments_lexer": "ipython3",
   "version": "3.9.12"
  }
 },
 "nbformat": 4,
 "nbformat_minor": 5
}
